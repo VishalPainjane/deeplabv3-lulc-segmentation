{
 "cells": [
  {
   "cell_type": "code",
   "execution_count": 7,
   "id": "4c014347",
   "metadata": {},
   "outputs": [
    {
     "name": "stdout",
     "output_type": "stream",
     "text": [
      "Found 149600 total images, USING 149600 samples (100.00%) from /workspace/Vishal_Painjane_23bcs267/SEN2_LULC_data/SEN-2_LULC_preprocessed/train_images\n",
      "Found 32079 total images, USING 32079 samples (100.00%) from /workspace/Vishal_Painjane_23bcs267/SEN2_LULC_data/SEN-2_LULC_preprocessed/val_images\n",
      "\n",
      "--- Epoch 1/50 ---\n"
     ]
    },
    {
     "data": {
      "application/vnd.jupyter.widget-view+json": {
       "model_id": "5ece04dd301949d8adbdf9659a344fb9",
       "version_major": 2,
       "version_minor": 0
      },
      "text/plain": [
       "Training:   0%|          | 0/2338 [00:00<?, ?it/s]"
      ]
     },
     "metadata": {},
     "output_type": "display_data"
    },
    {
     "data": {
      "application/vnd.jupyter.widget-view+json": {
       "model_id": "26639d683cc747438f4026b769695ff7",
       "version_major": 2,
       "version_minor": 0
      },
      "text/plain": [
       "Evaluating:   0%|          | 0/502 [00:00<?, ?it/s]"
      ]
     },
     "metadata": {},
     "output_type": "display_data"
    },
    {
     "name": "stdout",
     "output_type": "stream",
     "text": [
      "Validation Results -> Avg Loss: 0.3835, Pixel Acc: 77.43%, mIoU: 0.3734\n",
      "New best mIoU: 0.3734! Saving best model to ./outputs_rgb_optimized/best_model_optimized.pth\n",
      "=> Saving checkpoint\n",
      "\n",
      "--- Epoch 2/50 ---\n"
     ]
    },
    {
     "data": {
      "application/vnd.jupyter.widget-view+json": {
       "model_id": "dc24d185a591443090f19de87291c4b6",
       "version_major": 2,
       "version_minor": 0
      },
      "text/plain": [
       "Training:   0%|          | 0/2338 [00:00<?, ?it/s]"
      ]
     },
     "metadata": {},
     "output_type": "display_data"
    },
    {
     "data": {
      "application/vnd.jupyter.widget-view+json": {
       "model_id": "ff6d14ccb70f455a8f568fbee35a8e3d",
       "version_major": 2,
       "version_minor": 0
      },
      "text/plain": [
       "Evaluating:   0%|          | 0/502 [00:00<?, ?it/s]"
      ]
     },
     "metadata": {},
     "output_type": "display_data"
    },
    {
     "name": "stdout",
     "output_type": "stream",
     "text": [
      "Validation Results -> Avg Loss: 0.3552, Pixel Acc: 78.79%, mIoU: 0.4034\n",
      "New best mIoU: 0.4034! Saving best model to ./outputs_rgb_optimized/best_model_optimized.pth\n",
      "=> Saving checkpoint\n",
      "\n",
      "--- Epoch 3/50 ---\n"
     ]
    },
    {
     "data": {
      "application/vnd.jupyter.widget-view+json": {
       "model_id": "dbc4e412446b4dbb9d1faf0bfaae88b6",
       "version_major": 2,
       "version_minor": 0
      },
      "text/plain": [
       "Training:   0%|          | 0/2338 [00:00<?, ?it/s]"
      ]
     },
     "metadata": {},
     "output_type": "display_data"
    },
    {
     "data": {
      "application/vnd.jupyter.widget-view+json": {
       "model_id": "21f9fc8c676d443e892669b2de33ba0b",
       "version_major": 2,
       "version_minor": 0
      },
      "text/plain": [
       "Evaluating:   0%|          | 0/502 [00:00<?, ?it/s]"
      ]
     },
     "metadata": {},
     "output_type": "display_data"
    },
    {
     "name": "stdout",
     "output_type": "stream",
     "text": [
      "Validation Results -> Avg Loss: 0.3433, Pixel Acc: 79.51%, mIoU: 0.4141\n",
      "New best mIoU: 0.4141! Saving best model to ./outputs_rgb_optimized/best_model_optimized.pth\n",
      "=> Saving checkpoint\n",
      "\n",
      "--- Epoch 4/50 ---\n"
     ]
    },
    {
     "data": {
      "application/vnd.jupyter.widget-view+json": {
       "model_id": "119f468de04c46648f5108d22aef01f4",
       "version_major": 2,
       "version_minor": 0
      },
      "text/plain": [
       "Training:   0%|          | 0/2338 [00:00<?, ?it/s]"
      ]
     },
     "metadata": {},
     "output_type": "display_data"
    },
    {
     "data": {
      "application/vnd.jupyter.widget-view+json": {
       "model_id": "5a1c7441846a47d0a95619104a96c6a6",
       "version_major": 2,
       "version_minor": 0
      },
      "text/plain": [
       "Evaluating:   0%|          | 0/502 [00:00<?, ?it/s]"
      ]
     },
     "metadata": {},
     "output_type": "display_data"
    },
    {
     "name": "stdout",
     "output_type": "stream",
     "text": [
      "Validation Results -> Avg Loss: 0.3329, Pixel Acc: 80.29%, mIoU: 0.4251\n",
      "New best mIoU: 0.4251! Saving best model to ./outputs_rgb_optimized/best_model_optimized.pth\n",
      "=> Saving checkpoint\n",
      "\n",
      "--- Epoch 5/50 ---\n"
     ]
    },
    {
     "data": {
      "application/vnd.jupyter.widget-view+json": {
       "model_id": "64168268c17244e39ad775848a3529cc",
       "version_major": 2,
       "version_minor": 0
      },
      "text/plain": [
       "Training:   0%|          | 0/2338 [00:00<?, ?it/s]"
      ]
     },
     "metadata": {},
     "output_type": "display_data"
    },
    {
     "data": {
      "application/vnd.jupyter.widget-view+json": {
       "model_id": "46c48e50a81b46cc95f43b04f36fc020",
       "version_major": 2,
       "version_minor": 0
      },
      "text/plain": [
       "Evaluating:   0%|          | 0/502 [00:00<?, ?it/s]"
      ]
     },
     "metadata": {},
     "output_type": "display_data"
    },
    {
     "name": "stdout",
     "output_type": "stream",
     "text": [
      "Validation Results -> Avg Loss: 0.3254, Pixel Acc: 80.89%, mIoU: 0.4325\n",
      "New best mIoU: 0.4325! Saving best model to ./outputs_rgb_optimized/best_model_optimized.pth\n",
      "=> Saving checkpoint\n",
      "\n",
      "--- Epoch 6/50 ---\n"
     ]
    },
    {
     "data": {
      "application/vnd.jupyter.widget-view+json": {
       "model_id": "bb96aa38aedc450ea7258541152350ea",
       "version_major": 2,
       "version_minor": 0
      },
      "text/plain": [
       "Training:   0%|          | 0/2338 [00:00<?, ?it/s]"
      ]
     },
     "metadata": {},
     "output_type": "display_data"
    },
    {
     "data": {
      "application/vnd.jupyter.widget-view+json": {
       "model_id": "6ace5d3476e54a5f92248095060f7230",
       "version_major": 2,
       "version_minor": 0
      },
      "text/plain": [
       "Evaluating:   0%|          | 0/502 [00:00<?, ?it/s]"
      ]
     },
     "metadata": {},
     "output_type": "display_data"
    },
    {
     "name": "stdout",
     "output_type": "stream",
     "text": [
      "Validation Results -> Avg Loss: 0.3213, Pixel Acc: 81.26%, mIoU: 0.4359\n",
      "New best mIoU: 0.4359! Saving best model to ./outputs_rgb_optimized/best_model_optimized.pth\n",
      "=> Saving checkpoint\n",
      "\n",
      "--- Epoch 7/50 ---\n"
     ]
    },
    {
     "data": {
      "application/vnd.jupyter.widget-view+json": {
       "model_id": "1d258e90b0a64290b17e7a3d98df0bd8",
       "version_major": 2,
       "version_minor": 0
      },
      "text/plain": [
       "Training:   0%|          | 0/2338 [00:00<?, ?it/s]"
      ]
     },
     "metadata": {},
     "output_type": "display_data"
    },
    {
     "data": {
      "application/vnd.jupyter.widget-view+json": {
       "model_id": "32fa18300f964329b1bbadb22efafaa1",
       "version_major": 2,
       "version_minor": 0
      },
      "text/plain": [
       "Evaluating:   0%|          | 0/502 [00:00<?, ?it/s]"
      ]
     },
     "metadata": {},
     "output_type": "display_data"
    },
    {
     "name": "stdout",
     "output_type": "stream",
     "text": [
      "Validation Results -> Avg Loss: 0.3160, Pixel Acc: 81.43%, mIoU: 0.4423\n",
      "New best mIoU: 0.4423! Saving best model to ./outputs_rgb_optimized/best_model_optimized.pth\n",
      "=> Saving checkpoint\n",
      "\n",
      "--- Epoch 8/50 ---\n"
     ]
    },
    {
     "data": {
      "application/vnd.jupyter.widget-view+json": {
       "model_id": "d34464c2d13e4fb0b8f8a54c11c551da",
       "version_major": 2,
       "version_minor": 0
      },
      "text/plain": [
       "Training:   0%|          | 0/2338 [00:00<?, ?it/s]"
      ]
     },
     "metadata": {},
     "output_type": "display_data"
    },
    {
     "data": {
      "application/vnd.jupyter.widget-view+json": {
       "model_id": "4e4b380704814dc5b6a4991ef4709edf",
       "version_major": 2,
       "version_minor": 0
      },
      "text/plain": [
       "Evaluating:   0%|          | 0/502 [00:00<?, ?it/s]"
      ]
     },
     "metadata": {},
     "output_type": "display_data"
    },
    {
     "name": "stdout",
     "output_type": "stream",
     "text": [
      "Validation Results -> Avg Loss: 0.3145, Pixel Acc: 81.42%, mIoU: 0.4452\n",
      "New best mIoU: 0.4452! Saving best model to ./outputs_rgb_optimized/best_model_optimized.pth\n",
      "=> Saving checkpoint\n",
      "\n",
      "--- Epoch 9/50 ---\n"
     ]
    },
    {
     "data": {
      "application/vnd.jupyter.widget-view+json": {
       "model_id": "321069f771c141bda1fe1b45c76f5248",
       "version_major": 2,
       "version_minor": 0
      },
      "text/plain": [
       "Training:   0%|          | 0/2338 [00:00<?, ?it/s]"
      ]
     },
     "metadata": {},
     "output_type": "display_data"
    },
    {
     "data": {
      "application/vnd.jupyter.widget-view+json": {
       "model_id": "cc35808881154d508d7d0ce350f12f66",
       "version_major": 2,
       "version_minor": 0
      },
      "text/plain": [
       "Evaluating:   0%|          | 0/502 [00:00<?, ?it/s]"
      ]
     },
     "metadata": {},
     "output_type": "display_data"
    },
    {
     "name": "stdout",
     "output_type": "stream",
     "text": [
      "Validation Results -> Avg Loss: 0.3090, Pixel Acc: 81.89%, mIoU: 0.4506\n",
      "New best mIoU: 0.4506! Saving best model to ./outputs_rgb_optimized/best_model_optimized.pth\n",
      "=> Saving checkpoint\n",
      "\n",
      "--- Epoch 10/50 ---\n"
     ]
    },
    {
     "data": {
      "application/vnd.jupyter.widget-view+json": {
       "model_id": "23468e48dc744399871a9d11cc4acbe1",
       "version_major": 2,
       "version_minor": 0
      },
      "text/plain": [
       "Training:   0%|          | 0/2338 [00:00<?, ?it/s]"
      ]
     },
     "metadata": {},
     "output_type": "display_data"
    },
    {
     "data": {
      "application/vnd.jupyter.widget-view+json": {
       "model_id": "4db6de0014e04d6ba9b912d24be7095b",
       "version_major": 2,
       "version_minor": 0
      },
      "text/plain": [
       "Evaluating:   0%|          | 0/502 [00:00<?, ?it/s]"
      ]
     },
     "metadata": {},
     "output_type": "display_data"
    },
    {
     "name": "stdout",
     "output_type": "stream",
     "text": [
      "Validation Results -> Avg Loss: 0.3082, Pixel Acc: 81.92%, mIoU: 0.4516\n",
      "New best mIoU: 0.4516! Saving best model to ./outputs_rgb_optimized/best_model_optimized.pth\n",
      "=> Saving checkpoint\n",
      "\n",
      "--- Epoch 11/50 ---\n"
     ]
    },
    {
     "data": {
      "application/vnd.jupyter.widget-view+json": {
       "model_id": "58c4f8e76fb7462a85cf463ea7fbe2c5",
       "version_major": 2,
       "version_minor": 0
      },
      "text/plain": [
       "Training:   0%|          | 0/2338 [00:00<?, ?it/s]"
      ]
     },
     "metadata": {},
     "output_type": "display_data"
    },
    {
     "data": {
      "application/vnd.jupyter.widget-view+json": {
       "model_id": "ec8451e9eb9c4a119f982dd038a925b1",
       "version_major": 2,
       "version_minor": 0
      },
      "text/plain": [
       "Evaluating:   0%|          | 0/502 [00:00<?, ?it/s]"
      ]
     },
     "metadata": {},
     "output_type": "display_data"
    },
    {
     "name": "stdout",
     "output_type": "stream",
     "text": [
      "Validation Results -> Avg Loss: 0.3039, Pixel Acc: 82.40%, mIoU: 0.4553\n",
      "New best mIoU: 0.4553! Saving best model to ./outputs_rgb_optimized/best_model_optimized.pth\n",
      "=> Saving checkpoint\n",
      "\n",
      "--- Epoch 12/50 ---\n"
     ]
    },
    {
     "data": {
      "application/vnd.jupyter.widget-view+json": {
       "model_id": "464b448b19ce4378b69fa673d18b4ce9",
       "version_major": 2,
       "version_minor": 0
      },
      "text/plain": [
       "Training:   0%|          | 0/2338 [00:00<?, ?it/s]"
      ]
     },
     "metadata": {},
     "output_type": "display_data"
    },
    {
     "data": {
      "application/vnd.jupyter.widget-view+json": {
       "model_id": "2d1a68d74b5b4db08ed1a8bb5822b69d",
       "version_major": 2,
       "version_minor": 0
      },
      "text/plain": [
       "Evaluating:   0%|          | 0/502 [00:00<?, ?it/s]"
      ]
     },
     "metadata": {},
     "output_type": "display_data"
    },
    {
     "name": "stdout",
     "output_type": "stream",
     "text": [
      "Validation Results -> Avg Loss: 0.3011, Pixel Acc: 82.51%, mIoU: 0.4588\n",
      "New best mIoU: 0.4588! Saving best model to ./outputs_rgb_optimized/best_model_optimized.pth\n",
      "=> Saving checkpoint\n",
      "\n",
      "--- Epoch 13/50 ---\n"
     ]
    },
    {
     "data": {
      "application/vnd.jupyter.widget-view+json": {
       "model_id": "f4bc67da8cf34bf4903381d7701ed376",
       "version_major": 2,
       "version_minor": 0
      },
      "text/plain": [
       "Training:   0%|          | 0/2338 [00:00<?, ?it/s]"
      ]
     },
     "metadata": {},
     "output_type": "display_data"
    },
    {
     "data": {
      "application/vnd.jupyter.widget-view+json": {
       "model_id": "140fda3bd91048fb96c5fc80732f7c21",
       "version_major": 2,
       "version_minor": 0
      },
      "text/plain": [
       "Evaluating:   0%|          | 0/502 [00:00<?, ?it/s]"
      ]
     },
     "metadata": {},
     "output_type": "display_data"
    },
    {
     "name": "stdout",
     "output_type": "stream",
     "text": [
      "Validation Results -> Avg Loss: 0.2983, Pixel Acc: 82.68%, mIoU: 0.4618\n",
      "New best mIoU: 0.4618! Saving best model to ./outputs_rgb_optimized/best_model_optimized.pth\n",
      "=> Saving checkpoint\n",
      "\n",
      "--- Epoch 14/50 ---\n"
     ]
    },
    {
     "data": {
      "application/vnd.jupyter.widget-view+json": {
       "model_id": "a509ba21387d40078f73211fc769b344",
       "version_major": 2,
       "version_minor": 0
      },
      "text/plain": [
       "Training:   0%|          | 0/2338 [00:00<?, ?it/s]"
      ]
     },
     "metadata": {},
     "output_type": "display_data"
    },
    {
     "data": {
      "application/vnd.jupyter.widget-view+json": {
       "model_id": "08818e8aeb12456981945e5abd5612e1",
       "version_major": 2,
       "version_minor": 0
      },
      "text/plain": [
       "Evaluating:   0%|          | 0/502 [00:00<?, ?it/s]"
      ]
     },
     "metadata": {},
     "output_type": "display_data"
    },
    {
     "name": "stdout",
     "output_type": "stream",
     "text": [
      "Validation Results -> Avg Loss: 0.2978, Pixel Acc: 82.64%, mIoU: 0.4625\n",
      "New best mIoU: 0.4625! Saving best model to ./outputs_rgb_optimized/best_model_optimized.pth\n",
      "=> Saving checkpoint\n",
      "\n",
      "--- Epoch 15/50 ---\n"
     ]
    },
    {
     "data": {
      "application/vnd.jupyter.widget-view+json": {
       "model_id": "e1f4e56db3e241fea5874db86713036f",
       "version_major": 2,
       "version_minor": 0
      },
      "text/plain": [
       "Training:   0%|          | 0/2338 [00:00<?, ?it/s]"
      ]
     },
     "metadata": {},
     "output_type": "display_data"
    },
    {
     "data": {
      "application/vnd.jupyter.widget-view+json": {
       "model_id": "41efa1c6111b499c9e3497dc3d4d250a",
       "version_major": 2,
       "version_minor": 0
      },
      "text/plain": [
       "Evaluating:   0%|          | 0/502 [00:00<?, ?it/s]"
      ]
     },
     "metadata": {},
     "output_type": "display_data"
    },
    {
     "name": "stdout",
     "output_type": "stream",
     "text": [
      "Validation Results -> Avg Loss: 0.2960, Pixel Acc: 82.96%, mIoU: 0.4639\n",
      "New best mIoU: 0.4639! Saving best model to ./outputs_rgb_optimized/best_model_optimized.pth\n",
      "=> Saving checkpoint\n",
      "\n",
      "--- Epoch 16/50 ---\n"
     ]
    },
    {
     "data": {
      "application/vnd.jupyter.widget-view+json": {
       "model_id": "e2809e7ef512442cb5c578e4af127906",
       "version_major": 2,
       "version_minor": 0
      },
      "text/plain": [
       "Training:   0%|          | 0/2338 [00:00<?, ?it/s]"
      ]
     },
     "metadata": {},
     "output_type": "display_data"
    },
    {
     "data": {
      "application/vnd.jupyter.widget-view+json": {
       "model_id": "821fa1002fc8413da0ff2a7505c18290",
       "version_major": 2,
       "version_minor": 0
      },
      "text/plain": [
       "Evaluating:   0%|          | 0/502 [00:00<?, ?it/s]"
      ]
     },
     "metadata": {},
     "output_type": "display_data"
    },
    {
     "name": "stdout",
     "output_type": "stream",
     "text": [
      "Validation Results -> Avg Loss: 0.2944, Pixel Acc: 82.95%, mIoU: 0.4665\n",
      "New best mIoU: 0.4665! Saving best model to ./outputs_rgb_optimized/best_model_optimized.pth\n",
      "=> Saving checkpoint\n",
      "\n",
      "--- Epoch 17/50 ---\n"
     ]
    },
    {
     "data": {
      "application/vnd.jupyter.widget-view+json": {
       "model_id": "f9bf1d5f297a4ed7a494b6c2abc49e44",
       "version_major": 2,
       "version_minor": 0
      },
      "text/plain": [
       "Training:   0%|          | 0/2338 [00:00<?, ?it/s]"
      ]
     },
     "metadata": {},
     "output_type": "display_data"
    },
    {
     "data": {
      "application/vnd.jupyter.widget-view+json": {
       "model_id": "f4d5f0d33baa42e9a546f1a1d6356a84",
       "version_major": 2,
       "version_minor": 0
      },
      "text/plain": [
       "Evaluating:   0%|          | 0/502 [00:00<?, ?it/s]"
      ]
     },
     "metadata": {},
     "output_type": "display_data"
    },
    {
     "name": "stdout",
     "output_type": "stream",
     "text": [
      "Validation Results -> Avg Loss: 0.2939, Pixel Acc: 82.94%, mIoU: 0.4669\n",
      "New best mIoU: 0.4669! Saving best model to ./outputs_rgb_optimized/best_model_optimized.pth\n",
      "=> Saving checkpoint\n",
      "\n",
      "--- Epoch 18/50 ---\n"
     ]
    },
    {
     "data": {
      "application/vnd.jupyter.widget-view+json": {
       "model_id": "2f200336459642a7a60bfdcf44d985a7",
       "version_major": 2,
       "version_minor": 0
      },
      "text/plain": [
       "Training:   0%|          | 0/2338 [00:00<?, ?it/s]"
      ]
     },
     "metadata": {},
     "output_type": "display_data"
    },
    {
     "data": {
      "application/vnd.jupyter.widget-view+json": {
       "model_id": "9dfcfc90d79f474fb4fb94568a8b4d1d",
       "version_major": 2,
       "version_minor": 0
      },
      "text/plain": [
       "Evaluating:   0%|          | 0/502 [00:00<?, ?it/s]"
      ]
     },
     "metadata": {},
     "output_type": "display_data"
    },
    {
     "name": "stdout",
     "output_type": "stream",
     "text": [
      "Validation Results -> Avg Loss: 0.2931, Pixel Acc: 83.01%, mIoU: 0.4681\n",
      "New best mIoU: 0.4681! Saving best model to ./outputs_rgb_optimized/best_model_optimized.pth\n",
      "=> Saving checkpoint\n",
      "\n",
      "--- Epoch 19/50 ---\n"
     ]
    },
    {
     "data": {
      "application/vnd.jupyter.widget-view+json": {
       "model_id": "8aa0029af73945adb904c8ea1fa4772b",
       "version_major": 2,
       "version_minor": 0
      },
      "text/plain": [
       "Training:   0%|          | 0/2338 [00:00<?, ?it/s]"
      ]
     },
     "metadata": {},
     "output_type": "display_data"
    },
    {
     "data": {
      "application/vnd.jupyter.widget-view+json": {
       "model_id": "dfaedfff93e642488435f454cd299b78",
       "version_major": 2,
       "version_minor": 0
      },
      "text/plain": [
       "Evaluating:   0%|          | 0/502 [00:00<?, ?it/s]"
      ]
     },
     "metadata": {},
     "output_type": "display_data"
    },
    {
     "name": "stdout",
     "output_type": "stream",
     "text": [
      "Validation Results -> Avg Loss: 0.2905, Pixel Acc: 83.17%, mIoU: 0.4703\n",
      "New best mIoU: 0.4703! Saving best model to ./outputs_rgb_optimized/best_model_optimized.pth\n",
      "=> Saving checkpoint\n",
      "\n",
      "--- Epoch 20/50 ---\n"
     ]
    },
    {
     "data": {
      "application/vnd.jupyter.widget-view+json": {
       "model_id": "2baf10c5328248f78c9fc4f4e75f7a8c",
       "version_major": 2,
       "version_minor": 0
      },
      "text/plain": [
       "Training:   0%|          | 0/2338 [00:00<?, ?it/s]"
      ]
     },
     "metadata": {},
     "output_type": "display_data"
    },
    {
     "data": {
      "application/vnd.jupyter.widget-view+json": {
       "model_id": "c6252867feff4be3b0422758e0f14e6f",
       "version_major": 2,
       "version_minor": 0
      },
      "text/plain": [
       "Evaluating:   0%|          | 0/502 [00:00<?, ?it/s]"
      ]
     },
     "metadata": {},
     "output_type": "display_data"
    },
    {
     "name": "stdout",
     "output_type": "stream",
     "text": [
      "Validation Results -> Avg Loss: 0.2894, Pixel Acc: 83.22%, mIoU: 0.4717\n",
      "New best mIoU: 0.4717! Saving best model to ./outputs_rgb_optimized/best_model_optimized.pth\n",
      "=> Saving checkpoint\n",
      "\n",
      "--- Epoch 21/50 ---\n"
     ]
    },
    {
     "data": {
      "application/vnd.jupyter.widget-view+json": {
       "model_id": "f667a6bfe4654bceb220bdcbb92ab4b2",
       "version_major": 2,
       "version_minor": 0
      },
      "text/plain": [
       "Training:   0%|          | 0/2338 [00:00<?, ?it/s]"
      ]
     },
     "metadata": {},
     "output_type": "display_data"
    },
    {
     "data": {
      "application/vnd.jupyter.widget-view+json": {
       "model_id": "09397e1053c745929ac4fb7444279d8b",
       "version_major": 2,
       "version_minor": 0
      },
      "text/plain": [
       "Evaluating:   0%|          | 0/502 [00:00<?, ?it/s]"
      ]
     },
     "metadata": {},
     "output_type": "display_data"
    },
    {
     "name": "stdout",
     "output_type": "stream",
     "text": [
      "Validation Results -> Avg Loss: 0.2898, Pixel Acc: 83.29%, mIoU: 0.4710\n",
      "=> Saving checkpoint\n",
      "\n",
      "--- Epoch 22/50 ---\n"
     ]
    },
    {
     "data": {
      "application/vnd.jupyter.widget-view+json": {
       "model_id": "d2a6f62c2a6c4af6810285947976959f",
       "version_major": 2,
       "version_minor": 0
      },
      "text/plain": [
       "Training:   0%|          | 0/2338 [00:00<?, ?it/s]"
      ]
     },
     "metadata": {},
     "output_type": "display_data"
    },
    {
     "data": {
      "application/vnd.jupyter.widget-view+json": {
       "model_id": "4eb59bbfd1534a22bf6219359867a4b7",
       "version_major": 2,
       "version_minor": 0
      },
      "text/plain": [
       "Evaluating:   0%|          | 0/502 [00:00<?, ?it/s]"
      ]
     },
     "metadata": {},
     "output_type": "display_data"
    },
    {
     "name": "stdout",
     "output_type": "stream",
     "text": [
      "Validation Results -> Avg Loss: 0.2872, Pixel Acc: 83.45%, mIoU: 0.4743\n",
      "New best mIoU: 0.4743! Saving best model to ./outputs_rgb_optimized/best_model_optimized.pth\n",
      "=> Saving checkpoint\n",
      "\n",
      "--- Epoch 23/50 ---\n"
     ]
    },
    {
     "data": {
      "application/vnd.jupyter.widget-view+json": {
       "model_id": "936b24c0656845428f6880e13b578098",
       "version_major": 2,
       "version_minor": 0
      },
      "text/plain": [
       "Training:   0%|          | 0/2338 [00:00<?, ?it/s]"
      ]
     },
     "metadata": {},
     "output_type": "display_data"
    },
    {
     "data": {
      "application/vnd.jupyter.widget-view+json": {
       "model_id": "fad71d96670c46d981c47778da4df0b9",
       "version_major": 2,
       "version_minor": 0
      },
      "text/plain": [
       "Evaluating:   0%|          | 0/502 [00:00<?, ?it/s]"
      ]
     },
     "metadata": {},
     "output_type": "display_data"
    },
    {
     "name": "stdout",
     "output_type": "stream",
     "text": [
      "Validation Results -> Avg Loss: 0.2878, Pixel Acc: 83.49%, mIoU: 0.4732\n",
      "=> Saving checkpoint\n",
      "\n",
      "--- Epoch 24/50 ---\n"
     ]
    },
    {
     "data": {
      "application/vnd.jupyter.widget-view+json": {
       "model_id": "7731cf4d743343b39f7498c8eebb22e8",
       "version_major": 2,
       "version_minor": 0
      },
      "text/plain": [
       "Training:   0%|          | 0/2338 [00:00<?, ?it/s]"
      ]
     },
     "metadata": {},
     "output_type": "display_data"
    },
    {
     "data": {
      "application/vnd.jupyter.widget-view+json": {
       "model_id": "660a22ab13644ff88ba7c4945d6f8718",
       "version_major": 2,
       "version_minor": 0
      },
      "text/plain": [
       "Evaluating:   0%|          | 0/502 [00:00<?, ?it/s]"
      ]
     },
     "metadata": {},
     "output_type": "display_data"
    },
    {
     "name": "stdout",
     "output_type": "stream",
     "text": [
      "Validation Results -> Avg Loss: 0.2867, Pixel Acc: 83.46%, mIoU: 0.4745\n",
      "New best mIoU: 0.4745! Saving best model to ./outputs_rgb_optimized/best_model_optimized.pth\n",
      "=> Saving checkpoint\n",
      "\n",
      "--- Epoch 25/50 ---\n"
     ]
    },
    {
     "data": {
      "application/vnd.jupyter.widget-view+json": {
       "model_id": "4270c46429c84a3fb6158711a01fb9a5",
       "version_major": 2,
       "version_minor": 0
      },
      "text/plain": [
       "Training:   0%|          | 0/2338 [00:00<?, ?it/s]"
      ]
     },
     "metadata": {},
     "output_type": "display_data"
    },
    {
     "data": {
      "application/vnd.jupyter.widget-view+json": {
       "model_id": "383cf0fa2135405caad22d29248b1b3d",
       "version_major": 2,
       "version_minor": 0
      },
      "text/plain": [
       "Evaluating:   0%|          | 0/502 [00:00<?, ?it/s]"
      ]
     },
     "metadata": {},
     "output_type": "display_data"
    },
    {
     "name": "stdout",
     "output_type": "stream",
     "text": [
      "Validation Results -> Avg Loss: 0.2868, Pixel Acc: 83.41%, mIoU: 0.4751\n",
      "New best mIoU: 0.4751! Saving best model to ./outputs_rgb_optimized/best_model_optimized.pth\n",
      "=> Saving checkpoint\n",
      "\n",
      "--- Epoch 26/50 ---\n"
     ]
    },
    {
     "data": {
      "application/vnd.jupyter.widget-view+json": {
       "model_id": "fd0031fbc25145a8a7dcb55e72df67fd",
       "version_major": 2,
       "version_minor": 0
      },
      "text/plain": [
       "Training:   0%|          | 0/2338 [00:00<?, ?it/s]"
      ]
     },
     "metadata": {},
     "output_type": "display_data"
    },
    {
     "data": {
      "application/vnd.jupyter.widget-view+json": {
       "model_id": "0f160a12fae5444f8b21dfcb635a3d6e",
       "version_major": 2,
       "version_minor": 0
      },
      "text/plain": [
       "Evaluating:   0%|          | 0/502 [00:00<?, ?it/s]"
      ]
     },
     "metadata": {},
     "output_type": "display_data"
    },
    {
     "name": "stdout",
     "output_type": "stream",
     "text": [
      "Validation Results -> Avg Loss: 0.2851, Pixel Acc: 83.57%, mIoU: 0.4767\n",
      "New best mIoU: 0.4767! Saving best model to ./outputs_rgb_optimized/best_model_optimized.pth\n",
      "=> Saving checkpoint\n",
      "\n",
      "--- Epoch 27/50 ---\n"
     ]
    },
    {
     "data": {
      "application/vnd.jupyter.widget-view+json": {
       "model_id": "a7b3c629e4ac4da092968749fc3803c4",
       "version_major": 2,
       "version_minor": 0
      },
      "text/plain": [
       "Training:   0%|          | 0/2338 [00:00<?, ?it/s]"
      ]
     },
     "metadata": {},
     "output_type": "display_data"
    },
    {
     "data": {
      "application/vnd.jupyter.widget-view+json": {
       "model_id": "d326256d595f46fab7d064896abb7b70",
       "version_major": 2,
       "version_minor": 0
      },
      "text/plain": [
       "Evaluating:   0%|          | 0/502 [00:00<?, ?it/s]"
      ]
     },
     "metadata": {},
     "output_type": "display_data"
    },
    {
     "name": "stdout",
     "output_type": "stream",
     "text": [
      "Validation Results -> Avg Loss: 0.2850, Pixel Acc: 83.47%, mIoU: 0.4773\n",
      "New best mIoU: 0.4773! Saving best model to ./outputs_rgb_optimized/best_model_optimized.pth\n",
      "=> Saving checkpoint\n",
      "\n",
      "--- Epoch 28/50 ---\n"
     ]
    },
    {
     "data": {
      "application/vnd.jupyter.widget-view+json": {
       "model_id": "41a799cea46941daa18fedc89b5db9b1",
       "version_major": 2,
       "version_minor": 0
      },
      "text/plain": [
       "Training:   0%|          | 0/2338 [00:00<?, ?it/s]"
      ]
     },
     "metadata": {},
     "output_type": "display_data"
    },
    {
     "data": {
      "application/vnd.jupyter.widget-view+json": {
       "model_id": "fa8008ab60254a5d8aee82ba8d9a2a69",
       "version_major": 2,
       "version_minor": 0
      },
      "text/plain": [
       "Evaluating:   0%|          | 0/502 [00:00<?, ?it/s]"
      ]
     },
     "metadata": {},
     "output_type": "display_data"
    },
    {
     "name": "stdout",
     "output_type": "stream",
     "text": [
      "Validation Results -> Avg Loss: 0.2840, Pixel Acc: 83.64%, mIoU: 0.4778\n",
      "New best mIoU: 0.4778! Saving best model to ./outputs_rgb_optimized/best_model_optimized.pth\n",
      "=> Saving checkpoint\n",
      "\n",
      "--- Epoch 29/50 ---\n"
     ]
    },
    {
     "data": {
      "application/vnd.jupyter.widget-view+json": {
       "model_id": "76e35aa392dd480186f1bfaa756ce4a7",
       "version_major": 2,
       "version_minor": 0
      },
      "text/plain": [
       "Training:   0%|          | 0/2338 [00:00<?, ?it/s]"
      ]
     },
     "metadata": {},
     "output_type": "display_data"
    },
    {
     "data": {
      "application/vnd.jupyter.widget-view+json": {
       "model_id": "aa557e9a88904bef9e6ec4c975e92a55",
       "version_major": 2,
       "version_minor": 0
      },
      "text/plain": [
       "Evaluating:   0%|          | 0/502 [00:00<?, ?it/s]"
      ]
     },
     "metadata": {},
     "output_type": "display_data"
    },
    {
     "name": "stdout",
     "output_type": "stream",
     "text": [
      "Validation Results -> Avg Loss: 0.2842, Pixel Acc: 83.66%, mIoU: 0.4773\n",
      "=> Saving checkpoint\n",
      "\n",
      "--- Epoch 30/50 ---\n"
     ]
    },
    {
     "data": {
      "application/vnd.jupyter.widget-view+json": {
       "model_id": "5c672e0a9aba4fbf9f18606d43ef271e",
       "version_major": 2,
       "version_minor": 0
      },
      "text/plain": [
       "Training:   0%|          | 0/2338 [00:00<?, ?it/s]"
      ]
     },
     "metadata": {},
     "output_type": "display_data"
    },
    {
     "data": {
      "application/vnd.jupyter.widget-view+json": {
       "model_id": "a0454567ac5a43d6b767b5dff073830b",
       "version_major": 2,
       "version_minor": 0
      },
      "text/plain": [
       "Evaluating:   0%|          | 0/502 [00:00<?, ?it/s]"
      ]
     },
     "metadata": {},
     "output_type": "display_data"
    },
    {
     "name": "stdout",
     "output_type": "stream",
     "text": [
      "Validation Results -> Avg Loss: 0.2823, Pixel Acc: 83.73%, mIoU: 0.4797\n",
      "New best mIoU: 0.4797! Saving best model to ./outputs_rgb_optimized/best_model_optimized.pth\n",
      "=> Saving checkpoint\n",
      "\n",
      "--- Epoch 31/50 ---\n"
     ]
    },
    {
     "data": {
      "application/vnd.jupyter.widget-view+json": {
       "model_id": "b160cdc6b2414417a206bdf11878b01e",
       "version_major": 2,
       "version_minor": 0
      },
      "text/plain": [
       "Training:   0%|          | 0/2338 [00:00<?, ?it/s]"
      ]
     },
     "metadata": {},
     "output_type": "display_data"
    },
    {
     "data": {
      "application/vnd.jupyter.widget-view+json": {
       "model_id": "f0cd42b61cc64767b1d3c7d48597a439",
       "version_major": 2,
       "version_minor": 0
      },
      "text/plain": [
       "Evaluating:   0%|          | 0/502 [00:00<?, ?it/s]"
      ]
     },
     "metadata": {},
     "output_type": "display_data"
    },
    {
     "name": "stdout",
     "output_type": "stream",
     "text": [
      "Validation Results -> Avg Loss: 0.2819, Pixel Acc: 83.78%, mIoU: 0.4802\n",
      "New best mIoU: 0.4802! Saving best model to ./outputs_rgb_optimized/best_model_optimized.pth\n",
      "=> Saving checkpoint\n",
      "\n",
      "--- Epoch 32/50 ---\n"
     ]
    },
    {
     "data": {
      "application/vnd.jupyter.widget-view+json": {
       "model_id": "f313a74b50ac4b319f22dc0f61b45211",
       "version_major": 2,
       "version_minor": 0
      },
      "text/plain": [
       "Training:   0%|          | 0/2338 [00:00<?, ?it/s]"
      ]
     },
     "metadata": {},
     "output_type": "display_data"
    },
    {
     "data": {
      "application/vnd.jupyter.widget-view+json": {
       "model_id": "86c0aab4860c4875a46398eb81bb719a",
       "version_major": 2,
       "version_minor": 0
      },
      "text/plain": [
       "Evaluating:   0%|          | 0/502 [00:00<?, ?it/s]"
      ]
     },
     "metadata": {},
     "output_type": "display_data"
    },
    {
     "name": "stdout",
     "output_type": "stream",
     "text": [
      "Validation Results -> Avg Loss: 0.2815, Pixel Acc: 83.81%, mIoU: 0.4804\n",
      "New best mIoU: 0.4804! Saving best model to ./outputs_rgb_optimized/best_model_optimized.pth\n",
      "=> Saving checkpoint\n",
      "\n",
      "--- Epoch 33/50 ---\n"
     ]
    },
    {
     "data": {
      "application/vnd.jupyter.widget-view+json": {
       "model_id": "334fa34b27cd4aa4a70d3f3d197f7542",
       "version_major": 2,
       "version_minor": 0
      },
      "text/plain": [
       "Training:   0%|          | 0/2338 [00:00<?, ?it/s]"
      ]
     },
     "metadata": {},
     "output_type": "display_data"
    },
    {
     "data": {
      "application/vnd.jupyter.widget-view+json": {
       "model_id": "5243367518fb48248815cb3996abf01c",
       "version_major": 2,
       "version_minor": 0
      },
      "text/plain": [
       "Evaluating:   0%|          | 0/502 [00:00<?, ?it/s]"
      ]
     },
     "metadata": {},
     "output_type": "display_data"
    },
    {
     "name": "stdout",
     "output_type": "stream",
     "text": [
      "Validation Results -> Avg Loss: 0.2815, Pixel Acc: 83.82%, mIoU: 0.4802\n",
      "=> Saving checkpoint\n",
      "\n",
      "--- Epoch 34/50 ---\n"
     ]
    },
    {
     "data": {
      "application/vnd.jupyter.widget-view+json": {
       "model_id": "a8e39ede19724e838bb1198c871351e9",
       "version_major": 2,
       "version_minor": 0
      },
      "text/plain": [
       "Training:   0%|          | 0/2338 [00:00<?, ?it/s]"
      ]
     },
     "metadata": {},
     "output_type": "display_data"
    },
    {
     "data": {
      "application/vnd.jupyter.widget-view+json": {
       "model_id": "0d03689e68104b7d9bcb8567c2dcb871",
       "version_major": 2,
       "version_minor": 0
      },
      "text/plain": [
       "Evaluating:   0%|          | 0/502 [00:00<?, ?it/s]"
      ]
     },
     "metadata": {},
     "output_type": "display_data"
    },
    {
     "name": "stdout",
     "output_type": "stream",
     "text": [
      "Validation Results -> Avg Loss: 0.2816, Pixel Acc: 83.77%, mIoU: 0.4805\n",
      "New best mIoU: 0.4805! Saving best model to ./outputs_rgb_optimized/best_model_optimized.pth\n",
      "=> Saving checkpoint\n",
      "\n",
      "--- Epoch 35/50 ---\n"
     ]
    },
    {
     "data": {
      "application/vnd.jupyter.widget-view+json": {
       "model_id": "0aaf56725dda41d0a768af85c3496124",
       "version_major": 2,
       "version_minor": 0
      },
      "text/plain": [
       "Training:   0%|          | 0/2338 [00:00<?, ?it/s]"
      ]
     },
     "metadata": {},
     "output_type": "display_data"
    },
    {
     "data": {
      "application/vnd.jupyter.widget-view+json": {
       "model_id": "4bafb9fb2fbb4b4385e3c5a1960af3c8",
       "version_major": 2,
       "version_minor": 0
      },
      "text/plain": [
       "Evaluating:   0%|          | 0/502 [00:00<?, ?it/s]"
      ]
     },
     "metadata": {},
     "output_type": "display_data"
    },
    {
     "name": "stdout",
     "output_type": "stream",
     "text": [
      "Validation Results -> Avg Loss: 0.2808, Pixel Acc: 83.81%, mIoU: 0.4817\n",
      "New best mIoU: 0.4817! Saving best model to ./outputs_rgb_optimized/best_model_optimized.pth\n",
      "=> Saving checkpoint\n",
      "\n",
      "--- Epoch 36/50 ---\n"
     ]
    },
    {
     "data": {
      "application/vnd.jupyter.widget-view+json": {
       "model_id": "478425370dfc463e932b6f032b7076af",
       "version_major": 2,
       "version_minor": 0
      },
      "text/plain": [
       "Training:   0%|          | 0/2338 [00:00<?, ?it/s]"
      ]
     },
     "metadata": {},
     "output_type": "display_data"
    },
    {
     "data": {
      "application/vnd.jupyter.widget-view+json": {
       "model_id": "3721b94df9464b369aea317d7f0e6f41",
       "version_major": 2,
       "version_minor": 0
      },
      "text/plain": [
       "Evaluating:   0%|          | 0/502 [00:00<?, ?it/s]"
      ]
     },
     "metadata": {},
     "output_type": "display_data"
    },
    {
     "name": "stdout",
     "output_type": "stream",
     "text": [
      "Validation Results -> Avg Loss: 0.2809, Pixel Acc: 83.82%, mIoU: 0.4815\n",
      "=> Saving checkpoint\n",
      "\n",
      "--- Epoch 37/50 ---\n"
     ]
    },
    {
     "data": {
      "application/vnd.jupyter.widget-view+json": {
       "model_id": "d43fbf7a5dde48d09682580ceaec44c8",
       "version_major": 2,
       "version_minor": 0
      },
      "text/plain": [
       "Training:   0%|          | 0/2338 [00:00<?, ?it/s]"
      ]
     },
     "metadata": {},
     "output_type": "display_data"
    },
    {
     "data": {
      "application/vnd.jupyter.widget-view+json": {
       "model_id": "3f9174037d31414889b5cb3bbe3b6b66",
       "version_major": 2,
       "version_minor": 0
      },
      "text/plain": [
       "Evaluating:   0%|          | 0/502 [00:00<?, ?it/s]"
      ]
     },
     "metadata": {},
     "output_type": "display_data"
    },
    {
     "name": "stdout",
     "output_type": "stream",
     "text": [
      "Validation Results -> Avg Loss: 0.2815, Pixel Acc: 83.84%, mIoU: 0.4804\n",
      "=> Saving checkpoint\n",
      "\n",
      "--- Epoch 38/50 ---\n"
     ]
    },
    {
     "data": {
      "application/vnd.jupyter.widget-view+json": {
       "model_id": "72f715a6aef2485782a80bdd696eabe0",
       "version_major": 2,
       "version_minor": 0
      },
      "text/plain": [
       "Training:   0%|          | 0/2338 [00:00<?, ?it/s]"
      ]
     },
     "metadata": {},
     "output_type": "display_data"
    },
    {
     "data": {
      "application/vnd.jupyter.widget-view+json": {
       "model_id": "459bafa6ad264759946f100fbc6dc00b",
       "version_major": 2,
       "version_minor": 0
      },
      "text/plain": [
       "Evaluating:   0%|          | 0/502 [00:00<?, ?it/s]"
      ]
     },
     "metadata": {},
     "output_type": "display_data"
    },
    {
     "name": "stdout",
     "output_type": "stream",
     "text": [
      "Validation Results -> Avg Loss: 0.2803, Pixel Acc: 83.86%, mIoU: 0.4822\n",
      "New best mIoU: 0.4822! Saving best model to ./outputs_rgb_optimized/best_model_optimized.pth\n",
      "=> Saving checkpoint\n",
      "\n",
      "--- Epoch 39/50 ---\n"
     ]
    },
    {
     "data": {
      "application/vnd.jupyter.widget-view+json": {
       "model_id": "dc7551611993492b8d1f72886628c47a",
       "version_major": 2,
       "version_minor": 0
      },
      "text/plain": [
       "Training:   0%|          | 0/2338 [00:00<?, ?it/s]"
      ]
     },
     "metadata": {},
     "output_type": "display_data"
    },
    {
     "data": {
      "application/vnd.jupyter.widget-view+json": {
       "model_id": "6f87e9e1f1294000bdd401cd26c73e2b",
       "version_major": 2,
       "version_minor": 0
      },
      "text/plain": [
       "Evaluating:   0%|          | 0/502 [00:00<?, ?it/s]"
      ]
     },
     "metadata": {},
     "output_type": "display_data"
    },
    {
     "name": "stdout",
     "output_type": "stream",
     "text": [
      "Validation Results -> Avg Loss: 0.2798, Pixel Acc: 83.95%, mIoU: 0.4825\n",
      "New best mIoU: 0.4825! Saving best model to ./outputs_rgb_optimized/best_model_optimized.pth\n",
      "=> Saving checkpoint\n",
      "\n",
      "--- Epoch 40/50 ---\n"
     ]
    },
    {
     "data": {
      "application/vnd.jupyter.widget-view+json": {
       "model_id": "8575cd6a043246adbc17f27d9d52a890",
       "version_major": 2,
       "version_minor": 0
      },
      "text/plain": [
       "Training:   0%|          | 0/2338 [00:00<?, ?it/s]"
      ]
     },
     "metadata": {},
     "output_type": "display_data"
    },
    {
     "data": {
      "application/vnd.jupyter.widget-view+json": {
       "model_id": "b25676c312424ecfb4bf4b6bf4cb25e8",
       "version_major": 2,
       "version_minor": 0
      },
      "text/plain": [
       "Evaluating:   0%|          | 0/502 [00:00<?, ?it/s]"
      ]
     },
     "metadata": {},
     "output_type": "display_data"
    },
    {
     "name": "stdout",
     "output_type": "stream",
     "text": [
      "Validation Results -> Avg Loss: 0.2798, Pixel Acc: 83.90%, mIoU: 0.4826\n",
      "New best mIoU: 0.4826! Saving best model to ./outputs_rgb_optimized/best_model_optimized.pth\n",
      "=> Saving checkpoint\n",
      "\n",
      "--- Epoch 41/50 ---\n"
     ]
    },
    {
     "data": {
      "application/vnd.jupyter.widget-view+json": {
       "model_id": "3d2c7c0b2c9b40e791f8d4bc3dbb309a",
       "version_major": 2,
       "version_minor": 0
      },
      "text/plain": [
       "Training:   0%|          | 0/2338 [00:00<?, ?it/s]"
      ]
     },
     "metadata": {},
     "output_type": "display_data"
    },
    {
     "data": {
      "application/vnd.jupyter.widget-view+json": {
       "model_id": "84003c4b77d74786932eedf8e454c4ae",
       "version_major": 2,
       "version_minor": 0
      },
      "text/plain": [
       "Evaluating:   0%|          | 0/502 [00:00<?, ?it/s]"
      ]
     },
     "metadata": {},
     "output_type": "display_data"
    },
    {
     "name": "stdout",
     "output_type": "stream",
     "text": [
      "Validation Results -> Avg Loss: 0.2793, Pixel Acc: 83.97%, mIoU: 0.4830\n",
      "New best mIoU: 0.4830! Saving best model to ./outputs_rgb_optimized/best_model_optimized.pth\n",
      "=> Saving checkpoint\n",
      "\n",
      "--- Epoch 42/50 ---\n"
     ]
    },
    {
     "data": {
      "application/vnd.jupyter.widget-view+json": {
       "model_id": "1f73d827d4374beb8773e08166c34fad",
       "version_major": 2,
       "version_minor": 0
      },
      "text/plain": [
       "Training:   0%|          | 0/2338 [00:00<?, ?it/s]"
      ]
     },
     "metadata": {},
     "output_type": "display_data"
    },
    {
     "data": {
      "application/vnd.jupyter.widget-view+json": {
       "model_id": "93613f8fafd042c9837ad73aacc503d3",
       "version_major": 2,
       "version_minor": 0
      },
      "text/plain": [
       "Evaluating:   0%|          | 0/502 [00:00<?, ?it/s]"
      ]
     },
     "metadata": {},
     "output_type": "display_data"
    },
    {
     "name": "stdout",
     "output_type": "stream",
     "text": [
      "Validation Results -> Avg Loss: 0.2802, Pixel Acc: 83.86%, mIoU: 0.4825\n",
      "=> Saving checkpoint\n",
      "\n",
      "--- Epoch 43/50 ---\n"
     ]
    },
    {
     "data": {
      "application/vnd.jupyter.widget-view+json": {
       "model_id": "e4c28f785e5f4770852ce127abb3b603",
       "version_major": 2,
       "version_minor": 0
      },
      "text/plain": [
       "Training:   0%|          | 0/2338 [00:00<?, ?it/s]"
      ]
     },
     "metadata": {},
     "output_type": "display_data"
    },
    {
     "data": {
      "application/vnd.jupyter.widget-view+json": {
       "model_id": "edffb7ce083a40afb567dfa77de47a0b",
       "version_major": 2,
       "version_minor": 0
      },
      "text/plain": [
       "Evaluating:   0%|          | 0/502 [00:00<?, ?it/s]"
      ]
     },
     "metadata": {},
     "output_type": "display_data"
    },
    {
     "name": "stdout",
     "output_type": "stream",
     "text": [
      "Validation Results -> Avg Loss: 0.2790, Pixel Acc: 83.97%, mIoU: 0.4835\n",
      "New best mIoU: 0.4835! Saving best model to ./outputs_rgb_optimized/best_model_optimized.pth\n",
      "=> Saving checkpoint\n",
      "\n",
      "--- Epoch 44/50 ---\n"
     ]
    },
    {
     "data": {
      "application/vnd.jupyter.widget-view+json": {
       "model_id": "62a4e4d3bb5c44379973de6f757d993c",
       "version_major": 2,
       "version_minor": 0
      },
      "text/plain": [
       "Training:   0%|          | 0/2338 [00:00<?, ?it/s]"
      ]
     },
     "metadata": {},
     "output_type": "display_data"
    },
    {
     "data": {
      "application/vnd.jupyter.widget-view+json": {
       "model_id": "6a9793beb108443c8beb36dc6b23cd19",
       "version_major": 2,
       "version_minor": 0
      },
      "text/plain": [
       "Evaluating:   0%|          | 0/502 [00:00<?, ?it/s]"
      ]
     },
     "metadata": {},
     "output_type": "display_data"
    },
    {
     "name": "stdout",
     "output_type": "stream",
     "text": [
      "Validation Results -> Avg Loss: 0.2788, Pixel Acc: 84.01%, mIoU: 0.4834\n",
      "=> Saving checkpoint\n",
      "\n",
      "--- Epoch 45/50 ---\n"
     ]
    },
    {
     "data": {
      "application/vnd.jupyter.widget-view+json": {
       "model_id": "8d9445c9f92c4e9ca8d1173ff31ef938",
       "version_major": 2,
       "version_minor": 0
      },
      "text/plain": [
       "Training:   0%|          | 0/2338 [00:00<?, ?it/s]"
      ]
     },
     "metadata": {},
     "output_type": "display_data"
    },
    {
     "data": {
      "application/vnd.jupyter.widget-view+json": {
       "model_id": "d5a058db0db247d5b3eb13b5ff55c751",
       "version_major": 2,
       "version_minor": 0
      },
      "text/plain": [
       "Evaluating:   0%|          | 0/502 [00:00<?, ?it/s]"
      ]
     },
     "metadata": {},
     "output_type": "display_data"
    },
    {
     "name": "stdout",
     "output_type": "stream",
     "text": [
      "Validation Results -> Avg Loss: 0.2790, Pixel Acc: 83.98%, mIoU: 0.4834\n",
      "=> Saving checkpoint\n",
      "\n",
      "--- Epoch 46/50 ---\n"
     ]
    },
    {
     "data": {
      "application/vnd.jupyter.widget-view+json": {
       "model_id": "f460d049151f46b6901cd5c8d2469c9e",
       "version_major": 2,
       "version_minor": 0
      },
      "text/plain": [
       "Training:   0%|          | 0/2338 [00:00<?, ?it/s]"
      ]
     },
     "metadata": {},
     "output_type": "display_data"
    },
    {
     "data": {
      "application/vnd.jupyter.widget-view+json": {
       "model_id": "9873cad7ac694b07a4b74f0d614aa7c2",
       "version_major": 2,
       "version_minor": 0
      },
      "text/plain": [
       "Evaluating:   0%|          | 0/502 [00:00<?, ?it/s]"
      ]
     },
     "metadata": {},
     "output_type": "display_data"
    },
    {
     "name": "stdout",
     "output_type": "stream",
     "text": [
      "Validation Results -> Avg Loss: 0.2791, Pixel Acc: 83.94%, mIoU: 0.4836\n",
      "New best mIoU: 0.4836! Saving best model to ./outputs_rgb_optimized/best_model_optimized.pth\n",
      "=> Saving checkpoint\n",
      "\n",
      "--- Epoch 47/50 ---\n"
     ]
    },
    {
     "data": {
      "application/vnd.jupyter.widget-view+json": {
       "model_id": "7a6380e4ef344cdfb77bca2a9a6d58b2",
       "version_major": 2,
       "version_minor": 0
      },
      "text/plain": [
       "Training:   0%|          | 0/2338 [00:00<?, ?it/s]"
      ]
     },
     "metadata": {},
     "output_type": "display_data"
    },
    {
     "data": {
      "application/vnd.jupyter.widget-view+json": {
       "model_id": "8a8ba0343cc04198b386bc33784bf6f3",
       "version_major": 2,
       "version_minor": 0
      },
      "text/plain": [
       "Evaluating:   0%|          | 0/502 [00:00<?, ?it/s]"
      ]
     },
     "metadata": {},
     "output_type": "display_data"
    },
    {
     "name": "stdout",
     "output_type": "stream",
     "text": [
      "Validation Results -> Avg Loss: 0.2792, Pixel Acc: 83.93%, mIoU: 0.4836\n",
      "=> Saving checkpoint\n",
      "\n",
      "--- Epoch 48/50 ---\n"
     ]
    },
    {
     "data": {
      "application/vnd.jupyter.widget-view+json": {
       "model_id": "940182ceb97148fd88d3b586e01e2a45",
       "version_major": 2,
       "version_minor": 0
      },
      "text/plain": [
       "Training:   0%|          | 0/2338 [00:00<?, ?it/s]"
      ]
     },
     "metadata": {},
     "output_type": "display_data"
    },
    {
     "data": {
      "application/vnd.jupyter.widget-view+json": {
       "model_id": "3af5e6ef2efb41329e179550355eff17",
       "version_major": 2,
       "version_minor": 0
      },
      "text/plain": [
       "Evaluating:   0%|          | 0/502 [00:00<?, ?it/s]"
      ]
     },
     "metadata": {},
     "output_type": "display_data"
    },
    {
     "name": "stdout",
     "output_type": "stream",
     "text": [
      "Validation Results -> Avg Loss: 0.2788, Pixel Acc: 83.97%, mIoU: 0.4838\n",
      "New best mIoU: 0.4838! Saving best model to ./outputs_rgb_optimized/best_model_optimized.pth\n",
      "=> Saving checkpoint\n",
      "\n",
      "--- Epoch 49/50 ---\n"
     ]
    },
    {
     "data": {
      "application/vnd.jupyter.widget-view+json": {
       "model_id": "ec4853979ecd4de897a50a80fe5efc27",
       "version_major": 2,
       "version_minor": 0
      },
      "text/plain": [
       "Training:   0%|          | 0/2338 [00:00<?, ?it/s]"
      ]
     },
     "metadata": {},
     "output_type": "display_data"
    },
    {
     "data": {
      "application/vnd.jupyter.widget-view+json": {
       "model_id": "17de9a28bc5246f696b4e1a2826f5411",
       "version_major": 2,
       "version_minor": 0
      },
      "text/plain": [
       "Evaluating:   0%|          | 0/502 [00:00<?, ?it/s]"
      ]
     },
     "metadata": {},
     "output_type": "display_data"
    },
    {
     "name": "stdout",
     "output_type": "stream",
     "text": [
      "Validation Results -> Avg Loss: 0.2790, Pixel Acc: 83.92%, mIoU: 0.4838\n",
      "=> Saving checkpoint\n",
      "\n",
      "--- Epoch 50/50 ---\n"
     ]
    },
    {
     "data": {
      "application/vnd.jupyter.widget-view+json": {
       "model_id": "3328f7c5c86f489086150aa67cd2746e",
       "version_major": 2,
       "version_minor": 0
      },
      "text/plain": [
       "Training:   0%|          | 0/2338 [00:00<?, ?it/s]"
      ]
     },
     "metadata": {},
     "output_type": "display_data"
    },
    {
     "data": {
      "application/vnd.jupyter.widget-view+json": {
       "model_id": "61a7296acbdb4471a0ad840c21d928c3",
       "version_major": 2,
       "version_minor": 0
      },
      "text/plain": [
       "Evaluating:   0%|          | 0/502 [00:00<?, ?it/s]"
      ]
     },
     "metadata": {},
     "output_type": "display_data"
    },
    {
     "name": "stdout",
     "output_type": "stream",
     "text": [
      "Validation Results -> Avg Loss: 0.2790, Pixel Acc: 83.98%, mIoU: 0.4833\n",
      "=> Saving checkpoint\n",
      "\n",
      "--- Training Complete. ---\n",
      "Saving training history...\n",
      "History saved to ./outputs_rgb_optimized/training_history.json\n",
      "\n",
      "Generating plots...\n",
      "Loss plot saved to ./outputs_rgb_optimized/loss_plot.png\n",
      "Metrics plot saved to ./outputs_rgb_optimized/metrics_plot.png\n"
     ]
    }
   ],
   "source": [
    "import os\n",
    "import torch\n",
    "import torch.nn as nn\n",
    "import torch.optim as optim\n",
    "from torch.utils.data import Dataset, DataLoader\n",
    "from PIL import Image\n",
    "import numpy as np\n",
    "import torchvision.transforms as T\n",
    "import torchvision.transforms.functional as F\n",
    "import random\n",
    "from tqdm.notebook import tqdm\n",
    "import segmentation_models_pytorch as smp\n",
    "import json\n",
    "import matplotlib.pyplot as plt\n",
    "\n",
    "class CFG:\n",
    "    DATA_DIR = r\"/workspace/Vishal_Painjane_23bcs267/SEN2_LULC_data/SEN-2_LULC_preprocessed\"\n",
    "    TRAIN_IMG_DIR = os.path.join(DATA_DIR, \"train_images\")\n",
    "    TRAIN_MASK_DIR = os.path.join(DATA_DIR, \"train_masks\")\n",
    "    VAL_IMG_DIR = os.path.join(DATA_DIR, \"val_images\")\n",
    "    VAL_MASK_DIR = os.path.join(DATA_DIR, \"val_masks\")\n",
    "    \n",
    "    OUTPUT_DIR = \"./outputs_rgb_optimized\"\n",
    "    MODEL_SAVE_PATH = os.path.join(OUTPUT_DIR, \"best_model_optimized.pth\")\n",
    "    CHECKPOINT_PATH = os.path.join(OUTPUT_DIR, \"checkpoint.pth\")\n",
    "    HISTORY_PATH = os.path.join(OUTPUT_DIR, \"training_history.json\") \n",
    "    \n",
    "    DEVICE = \"cuda\" if torch.cuda.is_available() else \"cpu\"\n",
    "    MODEL_NAME = \"CustomDeepLabV3+\"\n",
    "    ENCODER_NAME = \"timm-efficientnet-b2\"\n",
    "    LOSS_FN_NAME = \"DiceFocal\"\n",
    "    IN_CHANNELS = 3; NUM_CLASSES = 8; IMG_SIZE = 256\n",
    "    BATCH_SIZE = 64; ACCUMULATION_STEPS = 1\n",
    "    NUM_WORKERS = 8\n",
    "    LEARNING_RATE = 1e-4; EPOCHS = 50\n",
    "    SEED = 42\n",
    "    SUBSET_FRACTION = 1\n",
    "\n",
    "class SELayer(nn.Module):\n",
    "    def __init__(self, channel, reduction=16):\n",
    "        super(SELayer, self).__init__(); self.avg_pool = nn.AdaptiveAvgPool2d(1)\n",
    "        self.fc = nn.Sequential(nn.Linear(channel, channel // reduction, bias=False), nn.ReLU(inplace=True), nn.Linear(channel // reduction, channel, bias=False), nn.Sigmoid())\n",
    "    def forward(self, x):\n",
    "        b, c, _, _ = x.size(); y = self.avg_pool(x).view(b, c); y = self.fc(y).view(b, c, 1, 1); return x * y.expand_as(x)\n",
    "class CustomDeepLabV3Plus(nn.Module):\n",
    "    def __init__(self, encoder_name, in_channels, classes):\n",
    "        super().__init__(); self.smp_model = smp.DeepLabV3Plus(encoder_name=encoder_name, encoder_weights=\"imagenet\", in_channels=in_channels, classes=classes)\n",
    "        decoder_channels = self.smp_model.segmentation_head[0].in_channels; self.se_layer = SELayer(decoder_channels)\n",
    "        self.segmentation_head = self.smp_model.segmentation_head; self.smp_model.segmentation_head = nn.Identity()\n",
    "    def forward(self, x):\n",
    "        decoder_features = self.smp_model(x); attended_features = self.se_layer(decoder_features)\n",
    "        output = self.segmentation_head(attended_features); return output\n",
    "class CombinedLoss(nn.Module):\n",
    "    def __init__(self, loss1, loss2, alpha=0.5):\n",
    "        super(CombinedLoss, self).__init__(); self.loss1 = loss1; self.loss2 = loss2; self.alpha = alpha\n",
    "        self.name = f\"{alpha}*{self.loss1.__class__.__name__} + {1-alpha}*{self.loss2.__class__.__name__}\"\n",
    "    def forward(self, prediction, target):\n",
    "        loss1_val = self.loss1(prediction, target); loss2_val = self.loss2(prediction, target); return self.alpha * loss1_val + (1 - self.alpha) * loss2_val\n",
    "\n",
    "class LULCDataset(Dataset):\n",
    "    def __init__(self, image_dir, mask_dir, subset_fraction=1.0, is_train=False, img_size=256):\n",
    "        self.image_dir = image_dir; self.mask_dir = mask_dir; self.is_train = is_train; self.img_size = img_size\n",
    "        all_images = sorted([f for f in os.listdir(image_dir) if f.endswith('.png')])\n",
    "        all_masks = sorted([f for f in os.listdir(mask_dir) if f.endswith('.tif')])\n",
    "        num_samples = int(len(all_images) * subset_fraction)\n",
    "        self.images = all_images[:num_samples]; self.masks = all_masks[:num_samples]\n",
    "        assert len(self.images) == len(self.masks), \"Mismatch\"; print(f\"Found {len(all_images)} total images, USING {len(self.images)} samples ({subset_fraction*100:.2f}%) from {image_dir}\")\n",
    "        self.normalize_transform = T.Normalize(mean=[0.485, 0.456, 0.406], std=[0.229, 0.224, 0.225])\n",
    "    def __len__(self): return len(self.images)\n",
    "    def __getitem__(self, idx):\n",
    "        img_path = os.path.join(self.image_dir, self.images[idx]); mask_path = os.path.join(self.mask_dir, self.masks[idx])\n",
    "        image = Image.open(img_path).convert(\"RGB\"); mask = Image.open(mask_path).convert(\"L\")\n",
    "        image = F.resize(image, [self.img_size, self.img_size], interpolation=T.InterpolationMode.BILINEAR)\n",
    "        mask = F.resize(mask, [self.img_size, self.img_size], interpolation=T.InterpolationMode.NEAREST)\n",
    "        if self.is_train:\n",
    "            if random.random() > 0.5: image = F.hflip(image); mask = F.hflip(mask)\n",
    "            if random.random() > 0.5: image = F.vflip(image); mask = F.vflip(mask)\n",
    "            angle = T.RandomRotation.get_params([-35, 35])\n",
    "            image = F.rotate(image, angle, interpolation=T.InterpolationMode.BILINEAR)\n",
    "            mask = F.rotate(mask, angle, interpolation=T.InterpolationMode.NEAREST)\n",
    "        image = F.to_tensor(image); mask = torch.from_numpy(np.array(mask, dtype=np.int64)); image = self.normalize_transform(image)\n",
    "        return image, mask\n",
    "\n",
    "def get_model():\n",
    "    if CFG.MODEL_NAME == \"CustomDeepLabV3+\": model = CustomDeepLabV3Plus(encoder_name=CFG.ENCODER_NAME, in_channels=CFG.IN_CHANNELS, classes=CFG.NUM_CLASSES)\n",
    "    else: model = smp.DeepLabV3Plus(encoder_name=CFG.ENCODER_NAME, encoder_weights=\"imagenet\", in_channels=CFG.IN_CHANNELS, classes=CFG.NUM_CLASSES)\n",
    "    return model.to(CFG.DEVICE)\n",
    "def get_loss_fn():\n",
    "    if CFG.LOSS_FN_NAME == \"DiceFocal\": dice = smp.losses.DiceLoss(mode='multiclass'); focal = smp.losses.FocalLoss(mode='multiclass'); return CombinedLoss(focal, dice, alpha=0.5)\n",
    "    else: return smp.losses.DiceLoss(mode='multiclass')\n",
    "\n",
    "def train_one_epoch(loader, model, optimizer, loss_fn, scaler):\n",
    "    loop = tqdm(loader, desc=\"Training\")\n",
    "    model.train()\n",
    "    optimizer.zero_grad()\n",
    "    \n",
    "    total_loss = 0.0\n",
    "    for batch_idx, (data, targets) in enumerate(loop):\n",
    "        data = data.to(CFG.DEVICE, non_blocking=True, memory_format=torch.channels_last)\n",
    "        targets = targets.long().to(CFG.DEVICE, non_blocking=True)\n",
    "        with torch.amp.autocast(device_type=CFG.DEVICE, dtype=torch.bfloat16, enabled=(CFG.DEVICE==\"cuda\")):\n",
    "            predictions = model(data)\n",
    "            loss = loss_fn(predictions, targets) / CFG.ACCUMULATION_STEPS\n",
    "        \n",
    "        scaler.scale(loss).backward()\n",
    "        if (batch_idx + 1) % CFG.ACCUMULATION_STEPS == 0:\n",
    "            scaler.step(optimizer); scaler.update(); optimizer.zero_grad()\n",
    "        \n",
    "        current_loss = loss.item() * CFG.ACCUMULATION_STEPS\n",
    "        total_loss += current_loss\n",
    "        loop.set_postfix(loss=current_loss)\n",
    "    \n",
    "    return total_loss / len(loader) \n",
    "\n",
    "def evaluate_model(loader, model, loss_fn):\n",
    "    model.eval()\n",
    "    intersection, union = torch.zeros(CFG.NUM_CLASSES, device=CFG.DEVICE), torch.zeros(CFG.NUM_CLASSES, device=CFG.DEVICE)\n",
    "    pixel_correct, pixel_total, total_loss = 0, 0, 0\n",
    "    loop = tqdm(loader, desc=\"Evaluating\")\n",
    "\n",
    "    with torch.no_grad():\n",
    "        for x, y in loop:\n",
    "            x = x.to(CFG.DEVICE, non_blocking=True, memory_format=torch.channels_last)\n",
    "            y = y.to(CFG.DEVICE, non_blocking=True).long()\n",
    "            with torch.amp.autocast(device_type=CFG.DEVICE, dtype=torch.bfloat16, enabled=(CFG.DEVICE==\"cuda\")):\n",
    "                preds = model(x)\n",
    "                loss = loss_fn(preds, y)\n",
    "                total_loss += loss.item()\n",
    "            pred_labels = torch.argmax(preds, dim=1)\n",
    "            pixel_correct += (pred_labels == y).sum()\n",
    "            pixel_total += torch.numel(y)\n",
    "            for cls in range(CFG.NUM_CLASSES):\n",
    "                pred_mask = (pred_labels == cls); true_mask = (y == cls)\n",
    "                intersection[cls] += (pred_mask & true_mask).sum()\n",
    "                union[cls] += (pred_mask | true_mask).sum()\n",
    "\n",
    "    pixel_acc = (pixel_correct / pixel_total) * 100\n",
    "    iou_per_class = (intersection + 1e-6) / (union + 1e-6)\n",
    "    mean_iou = iou_per_class.mean()\n",
    "    avg_loss = total_loss / len(loader)\n",
    "    \n",
    "    print(f\"Validation Results -> Avg Loss: {avg_loss:.4f}, Pixel Acc: {pixel_acc:.2f}%, mIoU: {mean_iou:.4f}\")\n",
    "    \n",
    "    return avg_loss, mean_iou, pixel_acc.cpu().item()\n",
    "\n",
    "def plot_training_history(history, save_dir):\n",
    "    \"\"\"Plots and saves the training history graphs.\"\"\"\n",
    "#     plt.style.use(\"seaborn-v0_8-whitegrid\")\n",
    "    plt.style.use(\"ggplot\")\n",
    "\n",
    "    # 1. Plot Loss (Train vs. Validation)\n",
    "    fig, ax = plt.subplots(1, 1, figsize=(10, 6))\n",
    "    epochs = range(1, len(history['train_loss']) + 1)\n",
    "    ax.plot(epochs, history['train_loss'], 'b-o', label='Training Loss')\n",
    "    ax.plot(epochs, history['val_loss'], 'r-o', label='Validation Loss')\n",
    "    ax.set_title('Training and Validation Loss', fontsize=16)\n",
    "    ax.set_xlabel('Epoch', fontsize=12)\n",
    "    ax.set_ylabel('Loss', fontsize=12)\n",
    "    ax.legend()\n",
    "    loss_plot_path = os.path.join(save_dir, 'loss_plot.png')\n",
    "    plt.savefig(loss_plot_path, dpi=300)\n",
    "    print(f\"Loss plot saved to {loss_plot_path}\")\n",
    "    plt.close()\n",
    "\n",
    "    fig, ax1 = plt.subplots(1, 1, figsize=(10, 6))\n",
    "    ax1.plot(epochs, history['val_miou'], 'g-o', label='Validation mIoU')\n",
    "    ax1.set_xlabel('Epoch', fontsize=12)\n",
    "    ax1.set_ylabel('mIoU', color='g', fontsize=12)\n",
    "    ax1.tick_params(axis='y', labelcolor='g')\n",
    "    \n",
    "    ax2 = ax1.twinx()\n",
    "    ax2.plot(epochs, history['val_acc'], 'm-s', label='Validation Accuracy')\n",
    "    ax2.set_ylabel('Accuracy (%)', color='m', fontsize=12)\n",
    "    ax2.tick_params(axis='y', labelcolor='m')\n",
    "    \n",
    "    ax1.set_title('Validation Metrics (mIoU and Accuracy)', fontsize=16)\n",
    "    fig.tight_layout()\n",
    "    lines1, labels1 = ax1.get_legend_handles_labels()\n",
    "    lines2, labels2 = ax2.get_legend_handles_labels()\n",
    "    ax2.legend(lines1 + lines2, labels1 + labels2, loc='best')\n",
    "\n",
    "    metrics_plot_path = os.path.join(save_dir, 'metrics_plot.png')\n",
    "    plt.savefig(metrics_plot_path, dpi=300)\n",
    "    print(f\"Metrics plot saved to {metrics_plot_path}\")\n",
    "    plt.close()\n",
    "\n",
    "def save_checkpoint(state, filename=\"checkpoint.pth\"): print(\"=> Saving checkpoint\"); torch.save(state, filename)\n",
    "\n",
    "def main():\n",
    "    torch.manual_seed(CFG.SEED); np.random.seed(CFG.SEED); os.makedirs(CFG.OUTPUT_DIR, exist_ok=True)\n",
    "    if torch.cuda.is_available(): torch.backends.cudnn.benchmark = True\n",
    "    \n",
    "    train_ds = LULCDataset(CFG.TRAIN_IMG_DIR, CFG.TRAIN_MASK_DIR, subset_fraction=CFG.SUBSET_FRACTION, is_train=True, img_size=CFG.IMG_SIZE)\n",
    "    val_ds = LULCDataset(CFG.VAL_IMG_DIR, CFG.VAL_MASK_DIR, subset_fraction=CFG.SUBSET_FRACTION, is_train=False, img_size=CFG.IMG_SIZE)\n",
    "\n",
    "    train_loader = DataLoader(train_ds, batch_size=CFG.BATCH_SIZE, num_workers=CFG.NUM_WORKERS, pin_memory=True, shuffle=True)\n",
    "    val_loader = DataLoader(val_ds, batch_size=CFG.BATCH_SIZE, num_workers=CFG.NUM_WORKERS, pin_memory=True, shuffle=False)\n",
    "\n",
    "    model = get_model(); model = model.to(memory_format=torch.channels_last)\n",
    "    loss_fn = get_loss_fn(); optimizer = optim.AdamW(model.parameters(), lr=CFG.LEARNING_RATE)\n",
    "    scaler = torch.amp.GradScaler(enabled=(CFG.DEVICE==\"cuda\")); scheduler = optim.lr_scheduler.CosineAnnealingLR(optimizer, T_max=CFG.EPOCHS, eta_min=1e-6)\n",
    "\n",
    "    start_epoch = 0; best_val_miou = -1.0\n",
    "    history = {'train_loss': [], 'val_loss': [], 'val_miou': [], 'val_acc': []}\n",
    "\n",
    "    if os.path.exists(CFG.CHECKPOINT_PATH):\n",
    "        print(\"=> Loading checkpoint...\")\n",
    "\n",
    "    for epoch in range(start_epoch, CFG.EPOCHS):\n",
    "        print(f\"\\n--- Epoch {epoch+1}/{CFG.EPOCHS} ---\")\n",
    "        \n",
    "        avg_train_loss = train_one_epoch(train_loader, model, optimizer, loss_fn, scaler)\n",
    "        avg_val_loss, current_miou, current_acc = evaluate_model(val_loader, model, loss_fn)\n",
    "        scheduler.step()\n",
    "        \n",
    "        history['train_loss'].append(avg_train_loss)\n",
    "        history['val_loss'].append(avg_val_loss)\n",
    "        history['val_miou'].append(current_miou.cpu().item()) # Ensure metrics are on CPU\n",
    "        history['val_acc'].append(current_acc)\n",
    "\n",
    "        if current_miou > best_val_miou:\n",
    "            best_val_miou = current_miou\n",
    "            print(f\"New best mIoU: {best_val_miou:.4f}! Saving best model to {CFG.MODEL_SAVE_PATH}\")\n",
    "            torch.save(model.state_dict(), CFG.MODEL_SAVE_PATH)\n",
    "        \n",
    "        checkpoint = {'epoch': epoch, 'model_state_dict': model.state_dict(), 'optimizer_state_dict': optimizer.state_dict(),\n",
    "                      'scheduler_state_dict': scheduler.state_dict(), 'scaler_state_dict': scaler.state_dict(), 'best_val_miou': best_val_miou}\n",
    "        save_checkpoint(checkpoint, filename=CFG.CHECKPOINT_PATH)\n",
    "        \n",
    "    print(\"\\n--- Training Complete. ---\")\n",
    "    \n",
    "    print(\"Saving training history...\")\n",
    "    with open(CFG.HISTORY_PATH, 'w') as f:\n",
    "        json.dump(history, f, indent=4)\n",
    "    print(f\"History saved to {CFG.HISTORY_PATH}\")\n",
    "\n",
    "    print(\"\\nGenerating plots...\")\n",
    "    plot_training_history(history, CFG.OUTPUT_DIR)\n",
    "\n",
    "if __name__ == \"__main__\":\n",
    "    main()"
   ]
  },
  {
   "cell_type": "code",
   "execution_count": null,
   "id": "24d8e617",
   "metadata": {},
   "outputs": [],
   "source": []
  }
 ],
 "metadata": {
  "kernelspec": {
   "display_name": "Python 3 (ipykernel)",
   "language": "python",
   "name": "python3"
  },
  "language_info": {
   "codemirror_mode": {
    "name": "ipython",
    "version": 3
   },
   "file_extension": ".py",
   "mimetype": "text/x-python",
   "name": "python",
   "nbconvert_exporter": "python",
   "pygments_lexer": "ipython3",
   "version": "3.8.10"
  }
 },
 "nbformat": 4,
 "nbformat_minor": 5
}
